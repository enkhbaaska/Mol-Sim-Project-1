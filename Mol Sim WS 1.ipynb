{
 "cells": [
  {
   "cell_type": "code",
   "execution_count": null,
   "id": "c51aae33",
   "metadata": {},
   "outputs": [],
   "source": [
    "#!/usr/bin/env python2\n",
    "# -*- coding: utf-8 -*-\n",
    "\"\"\"\n",
    "Created on Mon Oct 21 12:42:32 2019\n",
    "@author: Stefan\n",
    "\"\"\"\n",
    "import numpy as np #import numpy\n",
    "def f(x): # function definition and parameters\n",
    "return x**2 # function body (in this case only the return value)\n",
    "n = 2000 # number of guesses\n",
    "xlim1 = 1.0 #x limit\n",
    "xlim2 = 2.0 #x limit\n",
    "ymax = f(2) #max y, min zero\n",
    "s = 0 # initialize counter variable\n",
    "A = (xlim2 - xlim1)*ymax # area A\n",
    "for i in range(n): # for every value of n\n",
    "Rx = (xlim2-xlim1)*np.random.rand() + xlim1 # Set Rx, a random number\n",
    "Ry = ymax*np.random.rand() # Set Ry, a random number\n",
    "if Ry <= f(Rx): # if we are below the curve\n",
    "s = s+1 # increment counter\n",
    "av_f = A*s/n # ratio below curve * area = integral estimate"
   ]
  },
  {
   "cell_type": "code",
   "execution_count": 48,
   "id": "df76a746",
   "metadata": {},
   "outputs": [
    {
     "data": {
      "text/plain": [
       "[<matplotlib.lines.Line2D at 0x1763b416dc0>]"
      ]
     },
     "execution_count": 48,
     "metadata": {},
     "output_type": "execute_result"
    },
    {
     "data": {
      "image/png": "[encoded data removed]",
      "text/plain": [
       "<Figure size 432x288 with 1 Axes>"
      ]
     },
     "metadata": {
      "needs_background": "light"
     },
     "output_type": "display_data"
    }
   ],
   "source": [
    "import numpy as np\n",
    "import matplotlib.pyplot as plt\n",
    "import scipy.integrate as integrate\n",
    "B2N = integrate.quad(B2, 0, 20)[0]\n",
    "from scipy.optimize import broyden1\n",
    "a=broyden1(B2, 4) # 4 is initial guess\n",
    "\n",
    "np.random.rand()\n",
    "\n",
    "def U(r):\n",
    "    epsilon = 1.41 * 10 **(-22)\n",
    "    sigma = 2.56 * 10**(-10)\n",
    "    return 4*epsilon*((sigma/r)**12-(sigma/r)**6)\n",
    "    \n",
    "    \n",
    "def f(r):\n",
    "    # * f (r) = 1− e−U(r )/kT ( )r2 ***\n",
    "    epsilon = 1.41 * 10 **(-22)\n",
    "    sigma = 2.56 * 10**(-10)\n",
    "    U = 4*epsilon*((sigma/r)**12-(sigma/r)**6)\n",
    "    k = 1.38064852 * 10**(-23)\n",
    "    T = 300\n",
    "    return (1 - np.e**(-U/(k*T)))*r**2\n",
    "\n",
    "r1 = np.linspace(3.5, 10, 1000)\n",
    "U1 = U(r1)\n",
    "f1 = f(r1)\n",
    "\n",
    "plt.plot(r1,U1)\n",
    "#plt.plot(r1,f1)\n",
    "\n",
    "#print(np.e*1)\n",
    "\n",
    "\n",
    "\n",
    "\n",
    "\n",
    "    "
   ]
  },
  {
   "cell_type": "code",
   "execution_count": 45,
   "id": "6dfd8a7b",
   "metadata": {},
   "outputs": [
    {
     "name": "stdout",
     "output_type": "stream",
     "text": [
      "5.0000000000000005e-22\n"
     ]
    }
   ],
   "source": [
    "print(5* 10 **(-22))\n"
   ]
  }
 ],
 "metadata": {
  "kernelspec": {
   "display_name": "Python 3 (ipykernel)",
   "language": "python",
   "name": "python3"
  },
  "language_info": {
   "codemirror_mode": {
    "name": "ipython",
    "version": 3
   },
   "file_extension": ".py",
   "mimetype": "text/x-python",
   "name": "python",
   "nbconvert_exporter": "python",
   "pygments_lexer": "ipython3",
   "version": "3.9.7"
  }
 },
 "nbformat": 4,
 "nbformat_minor": 5
}
